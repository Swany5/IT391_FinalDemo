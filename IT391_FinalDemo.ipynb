{
 "cells": [
  {
   "cell_type": "code",
   "execution_count": 20,
   "metadata": {},
   "outputs": [],
   "source": [
    "# IT 391 Final Demo\n",
    "# Group 5 - Growmark"
   ]
  },
  {
   "cell_type": "code",
   "execution_count": 21,
   "metadata": {},
   "outputs": [],
   "source": [
    "import pandas as pd"
   ]
  },
  {
   "cell_type": "code",
   "execution_count": 22,
   "metadata": {},
   "outputs": [
    {
     "name": "stdout",
     "output_type": "stream",
     "text": [
      "               Name UserType    Company                   Job Title  \\\n",
      "0        BerloDavid     User  Company 3                  Applicator   \n",
      "1        BrownHarry     User  Company 3                Applicator I   \n",
      "2        DietzLarry     User  Company 3         Applicator/Operator   \n",
      "3   FlanaganTimothy     User  Company 3               Applicator II   \n",
      "4       HewittEdwin     User  Company 3                Applicator I   \n",
      "5         KilbyJack     User  Company 3                  Controller   \n",
      "6      LamontThomas     User  Company 3        Associate Controller   \n",
      "7         ReedRondi     User  Company 3                Applicator I   \n",
      "8       StrandDavid     User  Company 3                Applicator I   \n",
      "9         ThorpeJim     User  Company 3                   President   \n",
      "10       UpshawZeke     User  Company 3  Agronomy Marketing Manager   \n",
      "\n",
      "         Department  \n",
      "0          Agronomy  \n",
      "1          Agronomy  \n",
      "2         Company 4  \n",
      "3          Agronomy  \n",
      "4          Agronomy  \n",
      "5   Leadership Team  \n",
      "6   Leadership Team  \n",
      "7          Agronomy  \n",
      "8          Agronomy  \n",
      "9   Leadership Team  \n",
      "10         Agronomy  \n"
     ]
    }
   ],
   "source": [
    "growmarkData = pd.read_csv('Growmark_data_test.csv')\n",
    "\n",
    "print(growmarkData)"
   ]
  },
  {
   "cell_type": "code",
   "execution_count": 23,
   "metadata": {},
   "outputs": [
    {
     "name": "stdout",
     "output_type": "stream",
     "text": [
      "Index(['Name', 'UserType', 'Company', 'Job Title', 'Department'], dtype='object')\n"
     ]
    }
   ],
   "source": [
    "# Read headers\n",
    "print(growmarkData.columns)"
   ]
  },
  {
   "cell_type": "code",
   "execution_count": 24,
   "metadata": {},
   "outputs": [
    {
     "name": "stdout",
     "output_type": "stream",
     "text": [
      "0                     Applicator\n",
      "1                   Applicator I\n",
      "2            Applicator/Operator\n",
      "3                  Applicator II\n",
      "4                   Applicator I\n",
      "5                     Controller\n",
      "6           Associate Controller\n",
      "7                   Applicator I\n",
      "8                   Applicator I\n",
      "9                      President\n",
      "10    Agronomy Marketing Manager\n",
      "Name: Job Title, dtype: object\n"
     ]
    }
   ],
   "source": [
    "# Read specefic column\n",
    "print(growmarkData['Job Title'])"
   ]
  },
  {
   "cell_type": "code",
   "execution_count": 25,
   "metadata": {},
   "outputs": [
    {
     "name": "stdout",
     "output_type": "stream",
     "text": [
      "Name                  LamontThomas\n",
      "UserType                      User\n",
      "Company                  Company 3\n",
      "Job Title     Associate Controller\n",
      "Department         Leadership Team\n",
      "Name: 6, dtype: object\n"
     ]
    }
   ],
   "source": [
    "# Read indicudual user\n",
    "print(growmarkData.iloc[6])"
   ]
  },
  {
   "cell_type": "code",
   "execution_count": null,
   "metadata": {},
   "outputs": [],
   "source": [
    "jobTitle = input()"
   ]
  },
  {
   "cell_type": "code",
   "execution_count": null,
   "metadata": {},
   "outputs": [],
   "source": [
    "print(jobTitle)"
   ]
  },
  {
   "cell_type": "code",
   "execution_count": null,
   "metadata": {},
   "outputs": [],
   "source": [
    "growmarkData.loc[growmarkData['Job Title'] == jobTitle]"
   ]
  },
  {
   "cell_type": "code",
   "execution_count": null,
   "metadata": {},
   "outputs": [],
   "source": [
    "from fuzzywuzzy import process"
   ]
  },
  {
   "cell_type": "code",
   "execution_count": null,
   "metadata": {},
   "outputs": [],
   "source": [
    "choices = growmarkData['Job Title']\n",
    "\n",
    "process.extract(jobTitle, choices, limit = 11)"
   ]
  },
  {
   "cell_type": "code",
   "execution_count": null,
   "metadata": {},
   "outputs": [],
   "source": [
    "score = process.extract(jobTitle, choices, limit = 11)\n",
    "\n",
    "[possible for possible in score if possible[1] > 85]"
   ]
  },
  {
   "cell_type": "markdown",
   "metadata": {},
   "source": []
  },
  {
   "cell_type": "code",
   "execution_count": null,
   "metadata": {},
   "outputs": [],
   "source": []
  }
 ],
 "metadata": {
  "kernelspec": {
   "display_name": "Python 3",
   "language": "python",
   "name": "python3"
  },
  "language_info": {
   "codemirror_mode": {
    "name": "ipython",
    "version": 3
   },
   "file_extension": ".py",
   "mimetype": "text/x-python",
   "name": "python",
   "nbconvert_exporter": "python",
   "pygments_lexer": "ipython3",
   "version": "3.8.3"
  }
 },
 "nbformat": 4,
 "nbformat_minor": 4
}
